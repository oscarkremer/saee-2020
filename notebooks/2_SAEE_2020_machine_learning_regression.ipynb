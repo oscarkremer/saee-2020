{
  "nbformat": 4,
  "nbformat_minor": 0,
  "metadata": {
    "colab": {
      "name": "2.SAEE 2020-machine-learning-regression.ipynb",
      "provenance": [],
      "collapsed_sections": []
    },
    "kernelspec": {
      "name": "python3",
      "display_name": "Python 3"
    }
  },
  "cells": [
    {
      "cell_type": "code",
      "metadata": {
        "id": "xBPJsUduYCyo",
        "colab_type": "code",
        "colab": {}
      },
      "source": [
        "##### Python Sklearn - Regressão\n",
        "##### Notebook problema de regressão \n",
        "##### SAEE 2020 - Aprendizado de Máquna com Python - Oscar Schmitt Kremer.\n",
        "##### A execucação de cada uma destas células é feita apertando o botão de play aqui à esquerda\n",
        "import numpy as np\n",
        "import matplotlib.pyplot as plt\n",
        "from sklearn.model_selection import GridSearchCV, train_test_split\n",
        "from sklearn.neural_network import MLPRegressor\n",
        "from sklearn.datasets import load_boston\n",
        "from sklearn.metrics import mean_squared_error, mean_absolute_error"
      ],
      "execution_count": null,
      "outputs": []
    },
    {
      "cell_type": "code",
      "metadata": {
        "id": "hkXDRXfJnJoI",
        "colab_type": "code",
        "colab": {}
      },
      "source": [
        "TRAIN_TEST_SPLIT = 0.33\n",
        "data = load_boston()\n",
        "data"
      ],
      "execution_count": null,
      "outputs": []
    },
    {
      "cell_type": "code",
      "metadata": {
        "id": "KriFzLypoMkA",
        "colab_type": "code",
        "colab": {}
      },
      "source": [
        "plt.scatter(data.data[:, 7], data.target)\n",
        "plt.show()"
      ],
      "execution_count": null,
      "outputs": []
    },
    {
      "cell_type": "code",
      "metadata": {
        "id": "4y9MMbJloIrQ",
        "colab_type": "code",
        "colab": {}
      },
      "source": [
        "X_train, X_test, y_train, y_test = train_test_split(data.data, data.target, test_size=TRAIN_TEST_SPLIT, random_state=42)"
      ],
      "execution_count": null,
      "outputs": []
    },
    {
      "cell_type": "code",
      "metadata": {
        "id": "I7jBE2Y4oJdW",
        "colab_type": "code",
        "colab": {}
      },
      "source": [
        "model = MLPRegressor()\n",
        "model.fit(X_train, y_train)"
      ],
      "execution_count": null,
      "outputs": []
    },
    {
      "cell_type": "code",
      "metadata": {
        "id": "4uenIiQMoqE4",
        "colab_type": "code",
        "colab": {}
      },
      "source": [
        "model.predict(X_test)"
      ],
      "execution_count": null,
      "outputs": []
    },
    {
      "cell_type": "code",
      "metadata": {
        "id": "D-6kh4pTUdaI",
        "colab_type": "code",
        "colab": {}
      },
      "source": [
        "mean_squared_error(y_test, model.predict(X_test))**0.5\n"
      ],
      "execution_count": null,
      "outputs": []
    },
    {
      "cell_type": "code",
      "metadata": {
        "id": "drnaes0uUyp7",
        "colab_type": "code",
        "colab": {}
      },
      "source": [
        "mean_absolute_error(y_test, model.predict(X_test))"
      ],
      "execution_count": null,
      "outputs": []
    },
    {
      "cell_type": "code",
      "metadata": {
        "id": "5wOMuBNaU61U",
        "colab_type": "code",
        "colab": {}
      },
      "source": [
        "plt.scatter(X_test[:, 7], y_test)\n",
        "plt.scatter(X_test[:, 7], model.predict(X_test))\n",
        "plt.show()"
      ],
      "execution_count": null,
      "outputs": []
    }
  ]
}