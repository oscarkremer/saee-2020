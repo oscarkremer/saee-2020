{
  "nbformat": 4,
  "nbformat_minor": 0,
  "metadata": {
    "colab": {
      "name": "1_SAEE_2020_machine_learning_classification.ipynb",
      "provenance": [],
      "collapsed_sections": []
    },
    "kernelspec": {
      "name": "python3",
      "display_name": "Python 3"
    }
  },
  "cells": [
    {
      "cell_type": "code",
      "metadata": {
        "id": "1MTwcuswW87f"
      },
      "source": [
        "##### Python Sklearn - Classificaçãão\n",
        "##### Notebook problema de classificação \n",
        "##### SAEE 2020 - Aprendizado de Máquna com Python - Oscar Schmitt Kremer.\n",
        "##### A execucação de cada uma destas células é feita apertando o botão de play aqui à esquerda\n",
        "import numpy as np\n",
        "import matplotlib.pyplot as plt\n",
        "import pandas as pd\n",
        "from sklearn.model_selection import train_test_split\n",
        "from sklearn.metrics import confusion_matrix, auc, roc_auc_score, roc_curve, precision_recall_curve\n",
        "from sklearn.ensemble import RandomForestClassifier\n",
        "from sklearn.datasets import load_breast_cancer"
      ],
      "execution_count": null,
      "outputs": []
    },
    {
      "cell_type": "code",
      "metadata": {
        "id": "SmA_CPL_d3KA",
        "outputId": "5d7157de-821a-4f8d-e685-1a6bb5c6edbc",
        "colab": {
          "base_uri": "https://localhost:8080/",
          "height": 940
        }
      },
      "source": [
        "##### Dataset sobre cancer benignos e malignos, em\n",
        "##### features_names podem ser vistas as variáveis\n",
        "##### que estão sendo utilizadas para efetuar a \n",
        "##### classificação\n",
        "data = load_breast_cancer()\n",
        "data"
      ],
      "execution_count": null,
      "outputs": [
        {
          "output_type": "execute_result",
          "data": {
            "text/plain": [
              "{'DESCR': '.. _breast_cancer_dataset:\\n\\nBreast cancer wisconsin (diagnostic) dataset\\n--------------------------------------------\\n\\n**Data Set Characteristics:**\\n\\n    :Number of Instances: 569\\n\\n    :Number of Attributes: 30 numeric, predictive attributes and the class\\n\\n    :Attribute Information:\\n        - radius (mean of distances from center to points on the perimeter)\\n        - texture (standard deviation of gray-scale values)\\n        - perimeter\\n        - area\\n        - smoothness (local variation in radius lengths)\\n        - compactness (perimeter^2 / area - 1.0)\\n        - concavity (severity of concave portions of the contour)\\n        - concave points (number of concave portions of the contour)\\n        - symmetry \\n        - fractal dimension (\"coastline approximation\" - 1)\\n\\n        The mean, standard error, and \"worst\" or largest (mean of the three\\n        largest values) of these features were computed for each image,\\n        resulting in 30 features.  For instance, field 3 is Mean Radius, field\\n        13 is Radius SE, field 23 is Worst Radius.\\n\\n        - class:\\n                - WDBC-Malignant\\n                - WDBC-Benign\\n\\n    :Summary Statistics:\\n\\n    ===================================== ====== ======\\n                                           Min    Max\\n    ===================================== ====== ======\\n    radius (mean):                        6.981  28.11\\n    texture (mean):                       9.71   39.28\\n    perimeter (mean):                     43.79  188.5\\n    area (mean):                          143.5  2501.0\\n    smoothness (mean):                    0.053  0.163\\n    compactness (mean):                   0.019  0.345\\n    concavity (mean):                     0.0    0.427\\n    concave points (mean):                0.0    0.201\\n    symmetry (mean):                      0.106  0.304\\n    fractal dimension (mean):             0.05   0.097\\n    radius (standard error):              0.112  2.873\\n    texture (standard error):             0.36   4.885\\n    perimeter (standard error):           0.757  21.98\\n    area (standard error):                6.802  542.2\\n    smoothness (standard error):          0.002  0.031\\n    compactness (standard error):         0.002  0.135\\n    concavity (standard error):           0.0    0.396\\n    concave points (standard error):      0.0    0.053\\n    symmetry (standard error):            0.008  0.079\\n    fractal dimension (standard error):   0.001  0.03\\n    radius (worst):                       7.93   36.04\\n    texture (worst):                      12.02  49.54\\n    perimeter (worst):                    50.41  251.2\\n    area (worst):                         185.2  4254.0\\n    smoothness (worst):                   0.071  0.223\\n    compactness (worst):                  0.027  1.058\\n    concavity (worst):                    0.0    1.252\\n    concave points (worst):               0.0    0.291\\n    symmetry (worst):                     0.156  0.664\\n    fractal dimension (worst):            0.055  0.208\\n    ===================================== ====== ======\\n\\n    :Missing Attribute Values: None\\n\\n    :Class Distribution: 212 - Malignant, 357 - Benign\\n\\n    :Creator:  Dr. William H. Wolberg, W. Nick Street, Olvi L. Mangasarian\\n\\n    :Donor: Nick Street\\n\\n    :Date: November, 1995\\n\\nThis is a copy of UCI ML Breast Cancer Wisconsin (Diagnostic) datasets.\\nhttps://goo.gl/U2Uwz2\\n\\nFeatures are computed from a digitized image of a fine needle\\naspirate (FNA) of a breast mass.  They describe\\ncharacteristics of the cell nuclei present in the image.\\n\\nSeparating plane described above was obtained using\\nMultisurface Method-Tree (MSM-T) [K. P. Bennett, \"Decision Tree\\nConstruction Via Linear Programming.\" Proceedings of the 4th\\nMidwest Artificial Intelligence and Cognitive Science Society,\\npp. 97-101, 1992], a classification method which uses linear\\nprogramming to construct a decision tree.  Relevant features\\nwere selected using an exhaustive search in the space of 1-4\\nfeatures and 1-3 separating planes.\\n\\nThe actual linear program used to obtain the separating plane\\nin the 3-dimensional space is that described in:\\n[K. P. Bennett and O. L. Mangasarian: \"Robust Linear\\nProgramming Discrimination of Two Linearly Inseparable Sets\",\\nOptimization Methods and Software 1, 1992, 23-34].\\n\\nThis database is also available through the UW CS ftp server:\\n\\nftp ftp.cs.wisc.edu\\ncd math-prog/cpo-dataset/machine-learn/WDBC/\\n\\n.. topic:: References\\n\\n   - W.N. Street, W.H. Wolberg and O.L. Mangasarian. Nuclear feature extraction \\n     for breast tumor diagnosis. IS&T/SPIE 1993 International Symposium on \\n     Electronic Imaging: Science and Technology, volume 1905, pages 861-870,\\n     San Jose, CA, 1993.\\n   - O.L. Mangasarian, W.N. Street and W.H. Wolberg. Breast cancer diagnosis and \\n     prognosis via linear programming. Operations Research, 43(4), pages 570-577, \\n     July-August 1995.\\n   - W.H. Wolberg, W.N. Street, and O.L. Mangasarian. Machine learning techniques\\n     to diagnose breast cancer from fine-needle aspirates. Cancer Letters 77 (1994) \\n     163-171.',\n",
              " 'data': array([[1.799e+01, 1.038e+01, 1.228e+02, ..., 2.654e-01, 4.601e-01,\n",
              "         1.189e-01],\n",
              "        [2.057e+01, 1.777e+01, 1.329e+02, ..., 1.860e-01, 2.750e-01,\n",
              "         8.902e-02],\n",
              "        [1.969e+01, 2.125e+01, 1.300e+02, ..., 2.430e-01, 3.613e-01,\n",
              "         8.758e-02],\n",
              "        ...,\n",
              "        [1.660e+01, 2.808e+01, 1.083e+02, ..., 1.418e-01, 2.218e-01,\n",
              "         7.820e-02],\n",
              "        [2.060e+01, 2.933e+01, 1.401e+02, ..., 2.650e-01, 4.087e-01,\n",
              "         1.240e-01],\n",
              "        [7.760e+00, 2.454e+01, 4.792e+01, ..., 0.000e+00, 2.871e-01,\n",
              "         7.039e-02]]),\n",
              " 'feature_names': array(['mean radius', 'mean texture', 'mean perimeter', 'mean area',\n",
              "        'mean smoothness', 'mean compactness', 'mean concavity',\n",
              "        'mean concave points', 'mean symmetry', 'mean fractal dimension',\n",
              "        'radius error', 'texture error', 'perimeter error', 'area error',\n",
              "        'smoothness error', 'compactness error', 'concavity error',\n",
              "        'concave points error', 'symmetry error',\n",
              "        'fractal dimension error', 'worst radius', 'worst texture',\n",
              "        'worst perimeter', 'worst area', 'worst smoothness',\n",
              "        'worst compactness', 'worst concavity', 'worst concave points',\n",
              "        'worst symmetry', 'worst fractal dimension'], dtype='<U23'),\n",
              " 'filename': '/usr/local/lib/python3.6/dist-packages/sklearn/datasets/data/breast_cancer.csv',\n",
              " 'target': array([0, 0, 0, 0, 0, 0, 0, 0, 0, 0, 0, 0, 0, 0, 0, 0, 0, 0, 0, 1, 1, 1,\n",
              "        0, 0, 0, 0, 0, 0, 0, 0, 0, 0, 0, 0, 0, 0, 0, 1, 0, 0, 0, 0, 0, 0,\n",
              "        0, 0, 1, 0, 1, 1, 1, 1, 1, 0, 0, 1, 0, 0, 1, 1, 1, 1, 0, 1, 0, 0,\n",
              "        1, 1, 1, 1, 0, 1, 0, 0, 1, 0, 1, 0, 0, 1, 1, 1, 0, 0, 1, 0, 0, 0,\n",
              "        1, 1, 1, 0, 1, 1, 0, 0, 1, 1, 1, 0, 0, 1, 1, 1, 1, 0, 1, 1, 0, 1,\n",
              "        1, 1, 1, 1, 1, 1, 1, 0, 0, 0, 1, 0, 0, 1, 1, 1, 0, 0, 1, 0, 1, 0,\n",
              "        0, 1, 0, 0, 1, 1, 0, 1, 1, 0, 1, 1, 1, 1, 0, 1, 1, 1, 1, 1, 1, 1,\n",
              "        1, 1, 0, 1, 1, 1, 1, 0, 0, 1, 0, 1, 1, 0, 0, 1, 1, 0, 0, 1, 1, 1,\n",
              "        1, 0, 1, 1, 0, 0, 0, 1, 0, 1, 0, 1, 1, 1, 0, 1, 1, 0, 0, 1, 0, 0,\n",
              "        0, 0, 1, 0, 0, 0, 1, 0, 1, 0, 1, 1, 0, 1, 0, 0, 0, 0, 1, 1, 0, 0,\n",
              "        1, 1, 1, 0, 1, 1, 1, 1, 1, 0, 0, 1, 1, 0, 1, 1, 0, 0, 1, 0, 1, 1,\n",
              "        1, 1, 0, 1, 1, 1, 1, 1, 0, 1, 0, 0, 0, 0, 0, 0, 0, 0, 0, 0, 0, 0,\n",
              "        0, 0, 1, 1, 1, 1, 1, 1, 0, 1, 0, 1, 1, 0, 1, 1, 0, 1, 0, 0, 1, 1,\n",
              "        1, 1, 1, 1, 1, 1, 1, 1, 1, 1, 1, 0, 1, 1, 0, 1, 0, 1, 1, 1, 1, 1,\n",
              "        1, 1, 1, 1, 1, 1, 1, 1, 1, 0, 1, 1, 1, 0, 1, 0, 1, 1, 1, 1, 0, 0,\n",
              "        0, 1, 1, 1, 1, 0, 1, 0, 1, 0, 1, 1, 1, 0, 1, 1, 1, 1, 1, 1, 1, 0,\n",
              "        0, 0, 1, 1, 1, 1, 1, 1, 1, 1, 1, 1, 1, 0, 0, 1, 0, 0, 0, 1, 0, 0,\n",
              "        1, 1, 1, 1, 1, 0, 1, 1, 1, 1, 1, 0, 1, 1, 1, 0, 1, 1, 0, 0, 1, 1,\n",
              "        1, 1, 1, 1, 0, 1, 1, 1, 1, 1, 1, 1, 0, 1, 1, 1, 1, 1, 0, 1, 1, 0,\n",
              "        1, 1, 1, 1, 1, 1, 1, 1, 1, 1, 1, 1, 0, 1, 0, 0, 1, 0, 1, 1, 1, 1,\n",
              "        1, 0, 1, 1, 0, 1, 0, 1, 1, 0, 1, 0, 1, 1, 1, 1, 1, 1, 1, 1, 0, 0,\n",
              "        1, 1, 1, 1, 1, 1, 0, 1, 1, 1, 1, 1, 1, 1, 1, 1, 1, 0, 1, 1, 1, 1,\n",
              "        1, 1, 1, 0, 1, 0, 1, 1, 0, 1, 1, 1, 1, 1, 0, 0, 1, 0, 1, 0, 1, 1,\n",
              "        1, 1, 1, 0, 1, 1, 0, 1, 0, 1, 0, 0, 1, 1, 1, 0, 1, 1, 1, 1, 1, 1,\n",
              "        1, 1, 1, 1, 1, 0, 1, 0, 0, 1, 1, 1, 1, 1, 1, 1, 1, 1, 1, 1, 1, 1,\n",
              "        1, 1, 1, 1, 1, 1, 1, 1, 1, 1, 1, 1, 0, 0, 0, 0, 0, 0, 1]),\n",
              " 'target_names': array(['malignant', 'benign'], dtype='<U9')}"
            ]
          },
          "metadata": {
            "tags": []
          },
          "execution_count": 4
        }
      ]
    },
    {
      "cell_type": "code",
      "metadata": {
        "id": "KluG6Hqeedjp"
      },
      "source": [
        "##### Separação aleatória de partes de treino e teste\n",
        "X = data.data\n",
        "y = data.target\n",
        "X_train, X_test, y_train, y_test = train_test_split(X, y, test_size=0.3, random_state=42)"
      ],
      "execution_count": null,
      "outputs": []
    },
    {
      "cell_type": "code",
      "metadata": {
        "id": "L4X7fzGWdmwL",
        "outputId": "c518200c-6369-4a3a-81b2-48768533f656",
        "colab": {
          "base_uri": "https://localhost:8080/",
          "height": 156
        }
      },
      "source": [
        "##### Instanciar um modelo de classificação\n",
        "##### Todo modelo do sklearn possui os métodos fit e predict\n",
        "##### fit: efetua o treinamento do modelo conforme os dados\n",
        "##### X e y de treinamento\n",
        "##### predict: modela um conjunto de dados X de teste e retorna\n",
        "##### um vetor no formato de y\n",
        "model = RandomForestClassifier()\n",
        "model.fit(X_train, y_train)\n"
      ],
      "execution_count": null,
      "outputs": [
        {
          "output_type": "execute_result",
          "data": {
            "text/plain": [
              "RandomForestClassifier(bootstrap=True, ccp_alpha=0.0, class_weight=None,\n",
              "                       criterion='gini', max_depth=None, max_features='auto',\n",
              "                       max_leaf_nodes=None, max_samples=None,\n",
              "                       min_impurity_decrease=0.0, min_impurity_split=None,\n",
              "                       min_samples_leaf=1, min_samples_split=2,\n",
              "                       min_weight_fraction_leaf=0.0, n_estimators=100,\n",
              "                       n_jobs=None, oob_score=False, random_state=None,\n",
              "                       verbose=0, warm_start=False)"
            ]
          },
          "metadata": {
            "tags": []
          },
          "execution_count": 6
        }
      ]
    },
    {
      "cell_type": "code",
      "metadata": {
        "id": "qUWX8WJndm-M",
        "outputId": "1a3964fd-04bb-4ad7-ba2c-271b460eb4ea",
        "colab": {
          "base_uri": "https://localhost:8080/",
          "height": 1000
        }
      },
      "source": [
        "test_predict = model.predict(X_test)\n",
        "print(test_predict)\n",
        "print(model.predict_proba(X_test))"
      ],
      "execution_count": null,
      "outputs": [
        {
          "output_type": "stream",
          "text": [
            "[1 0 0 1 1 0 0 0 0 1 1 0 1 0 1 0 1 1 1 0 1 1 0 1 1 1 1 1 1 0 1 1 1 1 1 1 0\n",
            " 1 0 1 1 0 1 1 1 1 1 1 1 1 0 0 1 1 1 1 1 0 0 1 1 0 0 1 1 1 0 0 1 1 0 0 1 0\n",
            " 1 1 1 1 1 1 0 1 1 0 0 0 0 0 1 1 1 1 1 1 1 1 0 0 1 0 0 1 0 0 1 1 1 0 0 1 0\n",
            " 1 1 0 1 0 1 1 1 0 1 1 1 0 1 0 0 1 1 0 0 0 1 1 1 0 1 1 1 0 1 0 1 1 0 1 0 0\n",
            " 0 1 0 1 1 1 1 0 0 1 1 1 1 1 1 1 1 1 1 1 1 0 1]\n",
            "[[0.01 0.99]\n",
            " [1.   0.  ]\n",
            " [0.98 0.02]\n",
            " [0.   1.  ]\n",
            " [0.   1.  ]\n",
            " [1.   0.  ]\n",
            " [1.   0.  ]\n",
            " [0.91 0.09]\n",
            " [0.74 0.26]\n",
            " [0.03 0.97]\n",
            " [0.04 0.96]\n",
            " [0.99 0.01]\n",
            " [0.13 0.87]\n",
            " [0.89 0.11]\n",
            " [0.05 0.95]\n",
            " [0.99 0.01]\n",
            " [0.03 0.97]\n",
            " [0.   1.  ]\n",
            " [0.   1.  ]\n",
            " [1.   0.  ]\n",
            " [0.26 0.74]\n",
            " [0.   1.  ]\n",
            " [1.   0.  ]\n",
            " [0.   1.  ]\n",
            " [0.02 0.98]\n",
            " [0.1  0.9 ]\n",
            " [0.   1.  ]\n",
            " [0.07 0.93]\n",
            " [0.   1.  ]\n",
            " [0.99 0.01]\n",
            " [0.02 0.98]\n",
            " [0.   1.  ]\n",
            " [0.21 0.79]\n",
            " [0.09 0.91]\n",
            " [0.   1.  ]\n",
            " [0.   1.  ]\n",
            " [0.67 0.33]\n",
            " [0.06 0.94]\n",
            " [1.   0.  ]\n",
            " [0.1  0.9 ]\n",
            " [0.   1.  ]\n",
            " [0.98 0.02]\n",
            " [0.   1.  ]\n",
            " [0.   1.  ]\n",
            " [0.35 0.65]\n",
            " [0.02 0.98]\n",
            " [0.03 0.97]\n",
            " [0.02 0.98]\n",
            " [0.01 0.99]\n",
            " [0.04 0.96]\n",
            " [0.99 0.01]\n",
            " [1.   0.  ]\n",
            " [0.22 0.78]\n",
            " [0.26 0.74]\n",
            " [0.01 0.99]\n",
            " [0.02 0.98]\n",
            " [0.   1.  ]\n",
            " [1.   0.  ]\n",
            " [0.76 0.24]\n",
            " [0.   1.  ]\n",
            " [0.   1.  ]\n",
            " [1.   0.  ]\n",
            " [1.   0.  ]\n",
            " [0.04 0.96]\n",
            " [0.   1.  ]\n",
            " [0.13 0.87]\n",
            " [0.99 0.01]\n",
            " [1.   0.  ]\n",
            " [0.   1.  ]\n",
            " [0.02 0.98]\n",
            " [0.88 0.12]\n",
            " [1.   0.  ]\n",
            " [0.   1.  ]\n",
            " [1.   0.  ]\n",
            " [0.03 0.97]\n",
            " [0.04 0.96]\n",
            " [0.02 0.98]\n",
            " [0.43 0.57]\n",
            " [0.   1.  ]\n",
            " [0.08 0.92]\n",
            " [0.97 0.03]\n",
            " [0.   1.  ]\n",
            " [0.35 0.65]\n",
            " [1.   0.  ]\n",
            " [0.85 0.15]\n",
            " [1.   0.  ]\n",
            " [0.86 0.14]\n",
            " [0.99 0.01]\n",
            " [0.02 0.98]\n",
            " [0.03 0.97]\n",
            " [0.   1.  ]\n",
            " [0.26 0.74]\n",
            " [0.36 0.64]\n",
            " [0.02 0.98]\n",
            " [0.   1.  ]\n",
            " [0.01 0.99]\n",
            " [0.99 0.01]\n",
            " [1.   0.  ]\n",
            " [0.   1.  ]\n",
            " [0.99 0.01]\n",
            " [0.81 0.19]\n",
            " [0.   1.  ]\n",
            " [0.97 0.03]\n",
            " [1.   0.  ]\n",
            " [0.04 0.96]\n",
            " [0.   1.  ]\n",
            " [0.02 0.98]\n",
            " [1.   0.  ]\n",
            " [0.5  0.5 ]\n",
            " [0.08 0.92]\n",
            " [0.98 0.02]\n",
            " [0.   1.  ]\n",
            " [0.28 0.72]\n",
            " [1.   0.  ]\n",
            " [0.28 0.72]\n",
            " [1.   0.  ]\n",
            " [0.01 0.99]\n",
            " [0.09 0.91]\n",
            " [0.02 0.98]\n",
            " [0.98 0.02]\n",
            " [0.34 0.66]\n",
            " [0.   1.  ]\n",
            " [0.   1.  ]\n",
            " [1.   0.  ]\n",
            " [0.03 0.97]\n",
            " [1.   0.  ]\n",
            " [0.99 0.01]\n",
            " [0.   1.  ]\n",
            " [0.   1.  ]\n",
            " [1.   0.  ]\n",
            " [0.9  0.1 ]\n",
            " [0.99 0.01]\n",
            " [0.15 0.85]\n",
            " [0.   1.  ]\n",
            " [0.32 0.68]\n",
            " [0.94 0.06]\n",
            " [0.34 0.66]\n",
            " [0.02 0.98]\n",
            " [0.33 0.67]\n",
            " [0.96 0.04]\n",
            " [0.   1.  ]\n",
            " [1.   0.  ]\n",
            " [0.   1.  ]\n",
            " [0.   1.  ]\n",
            " [0.96 0.04]\n",
            " [0.   1.  ]\n",
            " [1.   0.  ]\n",
            " [1.   0.  ]\n",
            " [0.63 0.37]\n",
            " [0.02 0.98]\n",
            " [0.74 0.26]\n",
            " [0.01 0.99]\n",
            " [0.   1.  ]\n",
            " [0.   1.  ]\n",
            " [0.04 0.96]\n",
            " [1.   0.  ]\n",
            " [1.   0.  ]\n",
            " [0.01 0.99]\n",
            " [0.03 0.97]\n",
            " [0.   1.  ]\n",
            " [0.05 0.95]\n",
            " [0.   1.  ]\n",
            " [0.   1.  ]\n",
            " [0.04 0.96]\n",
            " [0.46 0.54]\n",
            " [0.   1.  ]\n",
            " [0.02 0.98]\n",
            " [0.15 0.85]\n",
            " [0.03 0.97]\n",
            " [0.89 0.11]\n",
            " [0.29 0.71]]\n"
          ],
          "name": "stdout"
        }
      ]
    },
    {
      "cell_type": "code",
      "metadata": {
        "id": "7_l30IuKdnE_",
        "outputId": "df21332f-4ee8-40ed-c8c6-4a340087c783",
        "colab": {
          "base_uri": "https://localhost:8080/",
          "height": 52
        }
      },
      "source": [
        "##### gerar matriz de confusao dos dados de teste\n",
        "##### .ravel() torna o retorno em uma sequencia de inteiros\n",
        "confusion_matrix(y_test, test_predict)\n"
      ],
      "execution_count": null,
      "outputs": [
        {
          "output_type": "execute_result",
          "data": {
            "text/plain": [
              "array([[ 59,   4],\n",
              "       [  2, 106]])"
            ]
          },
          "metadata": {
            "tags": []
          },
          "execution_count": 13
        }
      ]
    },
    {
      "cell_type": "code",
      "metadata": {
        "id": "1A-Xs52IS6H7",
        "outputId": "a60442b9-5b9a-4819-d7eb-5355fbfad9cd",
        "colab": {
          "base_uri": "https://localhost:8080/",
          "height": 34
        }
      },
      "source": [
        "##### Cálculo de Sensibilidade (TPR ou Recall)\n",
        "tn, fp, fn, tp = confusion_matrix(y_test, test_predict).ravel()\n",
        "tp/(tp+fn)"
      ],
      "execution_count": null,
      "outputs": [
        {
          "output_type": "execute_result",
          "data": {
            "text/plain": [
              "0.9814814814814815"
            ]
          },
          "metadata": {
            "tags": []
          },
          "execution_count": 16
        }
      ]
    },
    {
      "cell_type": "code",
      "metadata": {
        "id": "OVR3A2i_TGkm",
        "outputId": "d639db75-97bf-483e-ad19-22f60af8972f",
        "colab": {
          "base_uri": "https://localhost:8080/",
          "height": 34
        }
      },
      "source": [
        "##### Cálculo de Especificidade (TNR)\n",
        "tn/(tn+fp)"
      ],
      "execution_count": null,
      "outputs": [
        {
          "output_type": "execute_result",
          "data": {
            "text/plain": [
              "0.9365079365079365"
            ]
          },
          "metadata": {
            "tags": []
          },
          "execution_count": 17
        }
      ]
    },
    {
      "cell_type": "code",
      "metadata": {
        "id": "pwRMMVzQTGvr",
        "outputId": "3c3feced-dc8a-4610-8fa8-0614dc1fcdaa",
        "colab": {
          "base_uri": "https://localhost:8080/",
          "height": 34
        }
      },
      "source": [
        "##### Cálculo de Precisão (PPV)\n",
        "tp/(tp+fp)"
      ],
      "execution_count": null,
      "outputs": [
        {
          "output_type": "execute_result",
          "data": {
            "text/plain": [
              "0.9636363636363636"
            ]
          },
          "metadata": {
            "tags": []
          },
          "execution_count": 18
        }
      ]
    },
    {
      "cell_type": "code",
      "metadata": {
        "id": "6iN9IYWfTaQu",
        "outputId": "b1d4c86a-c0ff-4007-c420-0ce36fe04769",
        "colab": {
          "base_uri": "https://localhost:8080/",
          "height": 34
        }
      },
      "source": [
        "##### Cálculo de Acurácia\n",
        "(tp+tn)/(tp+tn+fp+fn)"
      ],
      "execution_count": null,
      "outputs": [
        {
          "output_type": "execute_result",
          "data": {
            "text/plain": [
              "0.9649122807017544"
            ]
          },
          "metadata": {
            "tags": []
          },
          "execution_count": 20
        }
      ]
    },
    {
      "cell_type": "code",
      "metadata": {
        "id": "rEkXL1FBdnJA"
      },
      "source": [
        "def adjusted_classes(y_scores, t):\n",
        "    \"\"\"\n",
        "    This function adjusts class predictions based on the prediction threshold (t).\n",
        "    Will only work for binary classification problems.\n",
        "    \"\"\"\n",
        "    return [1 if y >= t else 0 for y in y_scores]\n",
        "    \n",
        "def precision_recall_thres(y_test, y_scores, p, r, thresholds, t):\n",
        "    '''\n",
        "    Function to create precision vs recall\n",
        "    graphic showing specific threshold position\n",
        "    '''\n",
        "    y_pred_adj = adjusted_classes(y_scores, t)\n",
        "    print(pd.DataFrame(confusion_matrix(y_test, y_pred_adj),\n",
        "                       columns=['pred_neg', 'pred_pos'], \n",
        "                       index=['neg', 'pos']))\n",
        "    plt.figure(figsize=(8,8))\n",
        "    plt.title(\"Curva Precisão e Sensibilidade\")\n",
        "    plt.step(r, p, color='b', alpha=0.2,\n",
        "             where='post')\n",
        "    plt.fill_between(r, p, step='post', alpha=0.2,\n",
        "                     color='b')\n",
        "    plt.xlabel('Sensibilidade');\n",
        "    plt.ylabel('Precisão');\n",
        "    close_default_clf = np.argmin(np.abs(thresholds - t))\n",
        "    mean = np.argmin(np.abs(thresholds - 0.50))\n",
        "    plt.plot(r[close_default_clf], p[close_default_clf], '^', c='k',\n",
        "            markersize=15)\n",
        "    plt.plot(r[mean], p[mean], '^', c='b',\n",
        "            markersize=15)"
      ],
      "execution_count": null,
      "outputs": []
    },
    {
      "cell_type": "code",
      "metadata": {
        "id": "UCvHfgd1dnND",
        "outputId": "ce7a9d4f-238c-4262-e679-169b4851d18c",
        "colab": {
          "base_uri": "https://localhost:8080/",
          "height": 565
        }
      },
      "source": [
        "y_score = model.predict_proba(X_test)[:,1]\n",
        "precisions, recalls, thresholds = precision_recall_curve(y_test, y_score)\n",
        "precision_recall_thres(y_test, y_score, precisions, recalls, thresholds, 0.3)"
      ],
      "execution_count": null,
      "outputs": [
        {
          "output_type": "stream",
          "text": [
            "     pred_neg  pred_pos\n",
            "neg        57         6\n",
            "pos         1       107\n"
          ],
          "name": "stdout"
        },
        {
          "output_type": "display_data",
          "data": {
            "image/png": "[encoded data removed]",
            "text/plain": [
              "<Figure size 576x576 with 1 Axes>"
            ]
          },
          "metadata": {
            "tags": [],
            "needs_background": "light"
          }
        }
      ]
    },
    {
      "cell_type": "code",
      "metadata": {
        "id": "6WjWcjV8dnHn"
      },
      "source": [
        "def plot_roc_curve(fpr, tpr, label=None):\n",
        "    '''\n",
        "    Função para implementar e \n",
        "    gerar a curva ROC\n",
        "    '''\n",
        "    plt.clf()\n",
        "    plt.figure(figsize=(8,8))\n",
        "    plt.title('ROC Curve')\n",
        "    plt.plot(fpr, tpr, linewidth=2)\n",
        "    plt.plot([0, 1], [0, 1], 'k--')\n",
        "    plt.axis([-0.005, 1, 0, 1.005])\n",
        "    plt.xticks(np.arange(0,1, 0.05), rotation=90)\n",
        "    plt.xlabel(\"Taxa de Falso Positivo\")\n",
        "    plt.ylabel(\"Taxa de Verdadeiro Positivo\")\n",
        "    plt.legend(loc='best')\n",
        "    plt.show()"
      ],
      "execution_count": null,
      "outputs": []
    },
    {
      "cell_type": "code",
      "metadata": {
        "id": "QID-pklJiuZA",
        "outputId": "2d1766fe-7699-4db6-d15c-ca8c472433f5",
        "colab": {
          "base_uri": "https://localhost:8080/",
          "height": 577
        }
      },
      "source": [
        "y_score = model.predict_proba(X_test)[:,1]\n",
        "fpr, tpr, auc_thresholds = roc_curve(y_test, y_score)\n",
        "print(auc(fpr, tpr))\n",
        "plot_roc_curve(fpr, tpr)"
      ],
      "execution_count": null,
      "outputs": [
        {
          "output_type": "stream",
          "text": [
            "No handles with labels found to put in legend.\n"
          ],
          "name": "stderr"
        },
        {
          "output_type": "stream",
          "text": [
            "0.9967666078777191\n"
          ],
          "name": "stdout"
        },
        {
          "output_type": "display_data",
          "data": {
            "text/plain": [
              "<Figure size 432x288 with 0 Axes>"
            ]
          },
          "metadata": {
            "tags": []
          }
        },
        {
          "output_type": "display_data",
          "data": {
            "image/png": "[encoded data removed]",
            "text/plain": [
              "<Figure size 576x576 with 1 Axes>"
            ]
          },
          "metadata": {
            "tags": [],
            "needs_background": "light"
          }
        }
      ]
    }
  ]
}