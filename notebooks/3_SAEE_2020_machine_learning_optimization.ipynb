{
  "nbformat": 4,
  "nbformat_minor": 0,
  "metadata": {
    "colab": {
      "name": "3.SAEE 2020-machine-learning-optimization.ipynb",
      "provenance": [],
      "collapsed_sections": []
    },
    "kernelspec": {
      "name": "python3",
      "display_name": "Python 3"
    }
  },
  "cells": [
    {
      "cell_type": "code",
      "metadata": {
        "id": "G_5TQK83SvLs",
        "colab_type": "code",
        "colab": {}
      },
      "source": [
        "##### Python Scipy - Otimização\n",
        "##### Notebook problema de otimização \n",
        "##### SAEE 2020 - Aprendizado de Máquna com Python - Oscar Schmitt Kremer.\n",
        "##### A execucação de cada uma destas células é feita apertando o botão de play aqui à esquerda\n",
        "##### Artigo: Differential Evolution – A Simple and Efficient Heuristic for global Optimization over Continuous Spaces\n",
        "##### Autores: Rainer Storn & Kenneth Price \n",
        "##### Periódico: Journal of Global Optimization\n",
        "import numpy as np\n",
        "from scipy.optimize import differential_evolution"
      ],
      "execution_count": 10,
      "outputs": []
    },
    {
      "cell_type": "code",
      "metadata": {
        "id": "T_TZPYi7iCik",
        "colab_type": "code",
        "colab": {}
      },
      "source": [
        "class SpringMass:\n",
        "    '''\n",
        "    Classe sobre sistemas \n",
        "    massa mola\n",
        "    '''\n",
        "    def __init__(self, K, B, M):\n",
        "        self.K = K\n",
        "        self.B = B\n",
        "        self.M = M"
      ],
      "execution_count": 11,
      "outputs": []
    },
    {
      "cell_type": "code",
      "metadata": {
        "id": "APWsy7KoiE62",
        "colab_type": "code",
        "colab": {}
      },
      "source": [
        "def state_equations(t, x, sys, gains):\n",
        "    '''\n",
        "    Implementa a equação na \n",
        "    forma de variaveis de estado\n",
        "    do sistema físico considerado.\n",
        "    t: instante em um tempo específico\n",
        "    x: vetor de estados do sistema\n",
        "    sys: sistema massa mola\n",
        "    gains: ganhos proporcional e derivativo\n",
        "    '''\n",
        "    x1 = x[0]\n",
        "    x2 = x[1]\n",
        "    xd = np.sin(t)\n",
        "    xdponto = np.cos(t)\n",
        "    u = gains['proporcional']*(xd-x1) + gains['derivative']*(xdponto-x2)\n",
        "    if u > 100:\n",
        "        u = 100       \n",
        "    dx1dt=x2; \n",
        "    dx2dt= (1/sys.M)*(u - sys.B*x2 - sys.K*x1)\n",
        "    return np.array([dx1dt,dx2dt])"
      ],
      "execution_count": 16,
      "outputs": []
    },
    {
      "cell_type": "code",
      "metadata": {
        "id": "4a00g5v1iJja",
        "colab_type": "code",
        "colab": {}
      },
      "source": [
        "def euler_solver(x, times, delta_t, sys, gains):\n",
        "    '''\n",
        "    Função que resolve a equação\n",
        "    diferencial por Euler, fazendo a\n",
        "    acumulação dos estados calculados com\n",
        "    state_equation.\n",
        "    x: estados iniciais\n",
        "    times: vetor de tempo\n",
        "    delta_t: discretização do tempo\n",
        "    sys:sistema físico considerado\n",
        "    gains: ganhos proporcional e derivativo\n",
        "    '''\n",
        "    x_plot = []\n",
        "    for time in times:\n",
        "        x = x + delta_t*state_equations(time, x, sys, gains)\n",
        "        x_plot.append(x)\n",
        "    return np.array(x_plot)"
      ],
      "execution_count": 13,
      "outputs": []
    },
    {
      "cell_type": "code",
      "metadata": {
        "id": "bnma_i2tiLmW",
        "colab_type": "code",
        "colab": {}
      },
      "source": [
        "def itae(gains):\n",
        "    '''\n",
        "    Função que calcula o \n",
        "    ITAE(integral time absolute error)\n",
        "    para um determinado caso de tempo,\n",
        "    valor de referência e sistema \n",
        "    massa mola.\n",
        "    gains\n",
        "    '''\n",
        "    delta_t = 1/100\n",
        "    t = np.arange(0, 10, delta_t)\n",
        "    x0 = np.array([0, 0])\n",
        "    xd = np.sin(t)\n",
        "    control_gains = {'proporcional': gains[0], 'derivative': gains[1]}\n",
        "    sys = SpringMass(100, 8, 10)\n",
        "    x1 = euler_solver(x0, t, delta_t, sys, control_gains)[:,0]\n",
        "    if np.isnan(x1[-1]):\n",
        "        return 10**6\n",
        "    else:\n",
        "        return sum(t*abs(xd-x1))"
      ],
      "execution_count": 14,
      "outputs": []
    },
    {
      "cell_type": "code",
      "metadata": {
        "id": "17HV2F9DXFA7",
        "colab_type": "code",
        "colab": {
          "base_uri": "https://localhost:8080/",
          "height": 330
        },
        "outputId": "451612f3-74c7-482c-f74a-54eb284dd6ff"
      },
      "source": [
        "bounds = [(0.0001, 10000), (0.001, 10000)]\n",
        "result = differential_evolution(itae, bounds, maxiter=100, popsize=30, disp=True)\n",
        "print('Ganhos do algoritmo genetico'.format(result.x))\n",
        "print('ITAE otimizado {}:'.format(result.fun))\n",
        "print(itae([1000, 10]))\n",
        "print(itae([1000, 200]))\n",
        "print(itae([200, 1000]))\n",
        "print(itae([10, 1000]))"
      ],
      "execution_count": 17,
      "outputs": [
        {
          "output_type": "stream",
          "text": [
            "differential_evolution step 1: f(x)= 42.7225\n",
            "differential_evolution step 2: f(x)= 42.7225\n",
            "differential_evolution step 3: f(x)= 42.7225\n",
            "differential_evolution step 4: f(x)= 42.6435\n",
            "differential_evolution step 5: f(x)= 42.5356\n",
            "differential_evolution step 6: f(x)= 42.5356\n",
            "differential_evolution step 7: f(x)= 42.5356\n",
            "differential_evolution step 8: f(x)= 42.4894\n",
            "differential_evolution step 9: f(x)= 42.4894\n",
            "differential_evolution step 10: f(x)= 42.4859\n",
            "differential_evolution step 11: f(x)= 42.4859\n",
            "differential_evolution step 12: f(x)= 42.4859\n",
            "Ganhos do algoritmo genetico\n",
            "ITAE otimizado 42.45406792045475:\n",
            "252.61162726615825\n",
            "247.99364438215355\n",
            "344.5025359013031\n",
            "453.2935986777974\n"
          ],
          "name": "stdout"
        }
      ]
    }
  ]
}